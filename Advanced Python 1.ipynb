{
 "cells": [
  {
   "cell_type": "code",
   "execution_count": 5,
   "id": "8ed007d4",
   "metadata": {},
   "outputs": [],
   "source": [
    "#Ques 1\n",
    "def lili(l):\n",
    "    d={'#':5,'O':3,'X':1,'!':-1,'!!':-3,'!!!':-5}\n",
    "    s=0\n",
    "    for i in range(len(l)):\n",
    "        for j in range(len(l[i])):\n",
    "            s+=d[l[i][j]]\n",
    "    return s\n",
    "            \n",
    "\n"
   ]
  },
  {
   "cell_type": "code",
   "execution_count": 6,
   "id": "8b845265",
   "metadata": {},
   "outputs": [
    {
     "data": {
      "text/plain": [
       "2"
      ]
     },
     "execution_count": 6,
     "metadata": {},
     "output_type": "execute_result"
    }
   ],
   "source": [
    "lili([\n",
    "[\"#\",\"!\"],\n",
    "[\"!!\",\"X\"]\n",
    "])"
   ]
  },
  {
   "cell_type": "code",
   "execution_count": 11,
   "id": "df8cf085",
   "metadata": {},
   "outputs": [],
   "source": [
    "#Ques2\n",
    "def combinations(*args):\n",
    "    mul=1\n",
    "    for arg in args:\n",
    "        mul=mul*arg\n",
    "    return mul\n"
   ]
  },
  {
   "cell_type": "code",
   "execution_count": 13,
   "id": "2177f1e8",
   "metadata": {},
   "outputs": [
    {
     "data": {
      "text/plain": [
       "120"
      ]
     },
     "execution_count": 13,
     "metadata": {},
     "output_type": "execute_result"
    }
   ],
   "source": [
    "combinations(2,3,4,5)"
   ]
  },
  {
   "cell_type": "code",
   "execution_count": 65,
   "id": "7e943fd4",
   "metadata": {},
   "outputs": [],
   "source": [
    "#Ques3\n",
    "def encode_morse(word):\n",
    "    char_to_dots={ 'A':'.-', 'B':'-...',\n",
    "                    'C':'-.-.', 'D':'-..', 'E':'.',\n",
    "                    'F':'..-.', 'G':'--.', 'H':'....',\n",
    "                    'I':'..', 'J':'.---', 'K':'-.-',\n",
    "                    'L':'.-..', 'M':'--', 'N':'-.',\n",
    "                    'O':'---', 'P':'.--.', 'Q':'--.-',\n",
    "                    'R':'.-.', 'S':'...', 'T':'-',\n",
    "                    'U':'..-', 'V':'...-', 'W':'.--',\n",
    "                    'X':'-..-', 'Y':'-.--', 'Z':'--..',\n",
    "                    '1':'.----', '2':'..---', '3':'...--',\n",
    "                    '4':'....-', '5':'.....', '6':'-....',\n",
    "                    '7':'--...', '8':'---..', '9':'----.',\n",
    "                    '0':'-----', ', ':'--..--', '.':'.-.-.-',\n",
    "                    '?':'..--..', '/':'-..-.', '-':'-....-',\n",
    "                    '(':'-.--.', ')':'-.--.-',' ':' '}\n",
    "    st=''\n",
    "    for i in word:\n",
    "        for k,v in char_to_dots.items():\n",
    "            if i==k:\n",
    "                st=st+v\n",
    "    return st\n",
    "           \n",
    "                   \n",
    "            \n",
    "                \n",
    "                \n",
    "                \n",
    " "
   ]
  },
  {
   "cell_type": "code",
   "execution_count": 66,
   "id": "b418cafd",
   "metadata": {},
   "outputs": [
    {
     "data": {
      "text/plain": [
       "'......-...--. --. '"
      ]
     },
     "execution_count": 66,
     "metadata": {},
     "output_type": "execute_result"
    }
   ],
   "source": [
    "encode_morse(\"HELP ME !\")"
   ]
  },
  {
   "cell_type": "code",
   "execution_count": 69,
   "id": "2816fda9",
   "metadata": {},
   "outputs": [],
   "source": [
    "#Ques 5\n",
    "def to_bool_string(word1):\n",
    "    l=['a','b','c','d','e','f','g','h','i','j','k','l','m','n','o','p','q','r','s','t','u','v','w','x','y','z']\n",
    "    l1=[]\n",
    "    for i in word1:\n",
    "        for j in l:\n",
    "            if i==j:\n",
    "                if (l.index(i)+1)%2==0:\n",
    "                    val=0\n",
    "                else:\n",
    "                    val=1\n",
    "                l1.append(bool(val))\n",
    "    return l1\n",
    "                \n",
    "                    "
   ]
  },
  {
   "cell_type": "code",
   "execution_count": 71,
   "id": "5de52849",
   "metadata": {},
   "outputs": [
    {
     "data": {
      "text/plain": [
       "[False, True, False, True, True]"
      ]
     },
     "execution_count": 71,
     "metadata": {},
     "output_type": "execute_result"
    }
   ],
   "source": [
    "to_bool_string(\"loves\")"
   ]
  },
  {
   "cell_type": "code",
   "execution_count": null,
   "id": "59b1b261",
   "metadata": {},
   "outputs": [],
   "source": []
  }
 ],
 "metadata": {
  "kernelspec": {
   "display_name": "Python 3",
   "language": "python",
   "name": "python3"
  },
  "language_info": {
   "codemirror_mode": {
    "name": "ipython",
    "version": 3
   },
   "file_extension": ".py",
   "mimetype": "text/x-python",
   "name": "python",
   "nbconvert_exporter": "python",
   "pygments_lexer": "ipython3",
   "version": "3.8.8"
  }
 },
 "nbformat": 4,
 "nbformat_minor": 5
}
